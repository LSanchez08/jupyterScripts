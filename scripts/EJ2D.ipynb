{
 "cells": [
  {
   "cell_type": "code",
   "execution_count": 1,
   "id": "48bf40ac-9257-4b5d-af46-d9d1b847fa0e",
   "metadata": {},
   "outputs": [],
   "source": [
    "import pandas as pd\n",
    "import numpy as np\n",
    "import matplotlib.pyplot as plt\n",
    "import seaborn as sns\n",
    "import random"
   ]
  },
  {
   "cell_type": "code",
   "execution_count": 2,
   "id": "8ce8df1e-62f4-447a-9952-92dd5dcf34bb",
   "metadata": {},
   "outputs": [],
   "source": [
    "df = pd.read_csv('insurance.csv')\n",
    "#smoker\n",
    "df.replace(to_replace = 'male',\n",
    "          value = 1,\n",
    "          inplace = True)\n",
    "df.replace(to_replace = 'female',\n",
    "          value = 0,\n",
    "          inplace = True)\n",
    "#smoker\n",
    "df.replace(to_replace = 'yes',\n",
    "          value = 1,\n",
    "          inplace = True)\n",
    "df.replace(to_replace = 'no',\n",
    "          value = 0,\n",
    "          inplace = True)\n",
    "# region\n",
    "df.replace(to_replace = 'northeast',\n",
    "          value = 0,\n",
    "          inplace = True)\n",
    "df.replace(to_replace = 'northwest',\n",
    "          value = 1,\n",
    "          inplace = True)\n",
    "df.replace(to_replace = 'southeast',\n",
    "          value = 2,\n",
    "          inplace = True)\n",
    "df.replace(to_replace = 'southwest',\n",
    "          value = 3,\n",
    "          inplace = True)"
   ]
  },
  {
   "cell_type": "code",
   "execution_count": 3,
   "id": "df7c694b-4d2f-4a0b-bc59-27a3630ed5b0",
   "metadata": {},
   "outputs": [
    {
     "data": {
      "text/plain": [
       "Index(['age', 'sex', 'bmi', 'children', 'smoker', 'region', 'charges'], dtype='object')"
      ]
     },
     "execution_count": 3,
     "metadata": {},
     "output_type": "execute_result"
    }
   ],
   "source": [
    "df.head()\n",
    "df.columns"
   ]
  },
  {
   "cell_type": "code",
   "execution_count": 4,
   "id": "7f43261d-862b-40fb-b866-59a389978f53",
   "metadata": {},
   "outputs": [],
   "source": [
    "from sklearn import preprocessing\n",
    "sx = preprocessing.MinMaxScaler()\n",
    "sy = preprocessing.MinMaxScaler()\n",
    "\n",
    "scaled_X = sx.fit_transform(df.drop('charges',axis='columns').values)"
   ]
  },
  {
   "cell_type": "code",
   "execution_count": 5,
   "id": "a5f9e0b8-a586-4aad-b85b-fef01b55f30c",
   "metadata": {},
   "outputs": [
    {
     "data": {
      "text/plain": [
       "array([0.25161076, 0.00963595, 0.05311516, ..., 0.00810808, 0.01414352,\n",
       "       0.44724873])"
      ]
     },
     "execution_count": 5,
     "metadata": {},
     "output_type": "execute_result"
    }
   ],
   "source": [
    "scaled_y = sy.fit_transform(df['charges'].values.reshape(df.shape[0],1))\n",
    "scaled_y\n",
    "scaled_y.reshape(scaled_X.shape[0],)"
   ]
  },
  {
   "cell_type": "code",
   "execution_count": 6,
   "id": "3ee461b1-fc81-4437-9e92-a04a8244ed71",
   "metadata": {},
   "outputs": [],
   "source": [
    "# MINI BATCH"
   ]
  },
  {
   "cell_type": "code",
   "execution_count": 7,
   "id": "6588fbcc-bb61-4782-8a4b-4a64b26d44fa",
   "metadata": {},
   "outputs": [],
   "source": [
    "def mini_batch_gradient_descent(X, y_true, epochs, learning_rate = 0.01, batch_size = 5):\n",
    "    number_of_features = X.shape[1]\n",
    "    w = np.ones(shape=(number_of_features))\n",
    "    b = 0\n",
    "    total_samples = X.shape[0]\n",
    "    \n",
    "    cost_list = []\n",
    "    epoch_list = []\n",
    "    \n",
    "    num_batches = int(total_samples/batch_size)\n",
    "    for i in range(epochs):\n",
    "        random_indices = np.random.permutation(total_samples)\n",
    "        X_tmp = X[random_indices]\n",
    "        y_tmp = y_true[random_indices]\n",
    "        for j in range(0,total_samples,batch_size):\n",
    "            Xj = X_tmp[j:j+batch_size]\n",
    "            yj = y_tmp[j:j+batch_size]\n",
    "            y_predicted = np.dot(w, Xj.T) + b\n",
    "            \n",
    "            w_grad = -(2/len(Xj))*(Xj.T.dot(yj-y_predicted))\n",
    "            b_grad = -(2/len(Xj))*np.sum(yj-y_predicted)\n",
    "            \n",
    "            w = w - learning_rate * w_grad\n",
    "            b = b - learning_rate * b_grad\n",
    "                \n",
    "            cost = np.mean(np.square(yj-y_predicted))\n",
    "        \n",
    "        if i % 100 == 0:\n",
    "            cost_list.append(cost)\n",
    "            epoch_list.append(i)\n",
    "        \n",
    "    return w, b, cost, cost_list, epoch_list\n",
    "\n",
    "def predict(age, sex, bmi, children, smoker, region, w, b):\n",
    "    scaled_X = sx.transform([[age, sex, bmi, children, smoker, region]])[0]\n",
    "    scaled_charge = w[0] * scaled_X[0] + w[1] * scaled_X[1] + w[2] * scaled_X[2] + w[3] * scaled_X[3] + w[4] * scaled_X[4] + w[5] * scaled_X[5] + b\n",
    "    \n",
    "    return sy.inverse_transform([[scaled_charge]])[0][0]"
   ]
  },
  {
   "cell_type": "code",
   "execution_count": 8,
   "id": "aceabed1-f7f8-4ae7-99de-15741722daed",
   "metadata": {},
   "outputs": [
    {
     "data": {
      "text/plain": [
       "(array([ 0.17567887, -0.0155239 ,  0.19360374,  0.02528218,  0.38564325,\n",
       "        -0.01761848]),\n",
       " -0.06722988471016875,\n",
       " 0.006032590131297357)"
      ]
     },
     "execution_count": 8,
     "metadata": {},
     "output_type": "execute_result"
    }
   ],
   "source": [
    "wMBGD, bMBGD, costMBGD, cost_listMBGD, epoch_listMBGD = mini_batch_gradient_descent(scaled_X,scaled_y.reshape(scaled_y.shape[0],),scaled_X.shape[0], .05)\n",
    "wMBGD, bMBGD, costMBGD"
   ]
  },
  {
   "cell_type": "code",
   "execution_count": 9,
   "id": "be2620fb-1d81-4994-93ba-e6f48781b9fd",
   "metadata": {},
   "outputs": [
    {
     "data": {
      "image/png": "[encoded data removed]",
      "text/plain": [
       "<Figure size 432x288 with 1 Axes>"
      ]
     },
     "metadata": {
      "needs_background": "light"
     },
     "output_type": "display_data"
    }
   ],
   "source": [
    "plt.xlabel(\"epoch\")\n",
    "plt.ylabel(\"cost\")\n",
    "plt.plot(epoch_listMBGD,cost_listMBGD)\n",
    "plt.show()"
   ]
  },
  {
   "cell_type": "code",
   "execution_count": 10,
   "id": "2c947024-1def-4947-a1a7-bea6ef7ed0b5",
   "metadata": {},
   "outputs": [
    {
     "name": "stdout",
     "output_type": "stream",
     "text": [
      "23129.10783103808\n",
      "10615.06502157496\n",
      "1359.4368697058376\n"
     ]
    }
   ],
   "source": [
    "print(predict(19, 1, 27.9, 0, 1, 3, wMBGD, bMBGD))\n",
    "print(predict(30, 1, 50.2, 2, 0, 0, wMBGD, bMBGD))\n",
    "print(predict(33, 1, 22.705, 0, 0, 1, wMBGD, bMBGD))"
   ]
  }
 ],
 "metadata": {
  "kernelspec": {
   "display_name": "Python 3 (ipykernel)",
   "language": "python",
   "name": "python3"
  },
  "language_info": {
   "codemirror_mode": {
    "name": "ipython",
    "version": 3
   },
   "file_extension": ".py",
   "mimetype": "text/x-python",
   "name": "python",
   "nbconvert_exporter": "python",
   "pygments_lexer": "ipython3",
   "version": "3.9.10"
  }
 },
 "nbformat": 4,
 "nbformat_minor": 5
}
