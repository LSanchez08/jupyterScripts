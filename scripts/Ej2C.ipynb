{
 "cells": [
  {
   "cell_type": "code",
   "execution_count": 1,
   "id": "48bf40ac-9257-4b5d-af46-d9d1b847fa0e",
   "metadata": {},
   "outputs": [],
   "source": [
    "import pandas as pd\n",
    "import numpy as np\n",
    "import matplotlib.pyplot as plt\n",
    "import seaborn as sns"
   ]
  },
  {
   "cell_type": "code",
   "execution_count": 2,
   "id": "8ce8df1e-62f4-447a-9952-92dd5dcf34bb",
   "metadata": {},
   "outputs": [],
   "source": [
    "df = pd.read_csv('insurance.csv')\n",
    "#smoker\n",
    "df.replace(to_replace = 'male',\n",
    "          value = 1,\n",
    "          inplace = True)\n",
    "df.replace(to_replace = 'female',\n",
    "          value = 0,\n",
    "          inplace = True)\n",
    "#smoker\n",
    "df.replace(to_replace = 'yes',\n",
    "          value = 1,\n",
    "          inplace = True)\n",
    "df.replace(to_replace = 'no',\n",
    "          value = 0,\n",
    "          inplace = True)\n",
    "# region\n",
    "df.replace(to_replace = 'northeast',\n",
    "          value = 0,\n",
    "          inplace = True)\n",
    "df.replace(to_replace = 'northwest',\n",
    "          value = 1,\n",
    "          inplace = True)\n",
    "df.replace(to_replace = 'southeast',\n",
    "          value = 2,\n",
    "          inplace = True)\n",
    "df.replace(to_replace = 'southwest',\n",
    "          value = 3,\n",
    "          inplace = True)"
   ]
  },
  {
   "cell_type": "code",
   "execution_count": 3,
   "id": "df7c694b-4d2f-4a0b-bc59-27a3630ed5b0",
   "metadata": {},
   "outputs": [
    {
     "data": {
      "text/plain": [
       "Index(['age', 'sex', 'bmi', 'children', 'smoker', 'region', 'charges'], dtype='object')"
      ]
     },
     "execution_count": 3,
     "metadata": {},
     "output_type": "execute_result"
    }
   ],
   "source": [
    "df.head()\n",
    "df.columns"
   ]
  },
  {
   "cell_type": "code",
   "execution_count": 4,
   "id": "7f43261d-862b-40fb-b866-59a389978f53",
   "metadata": {},
   "outputs": [],
   "source": [
    "from sklearn import preprocessing\n",
    "sx = preprocessing.MinMaxScaler()\n",
    "sy = preprocessing.MinMaxScaler()\n",
    "\n",
    "scaled_X = sx.fit_transform(df.drop('charges',axis='columns').values)\n"
   ]
  },
  {
   "cell_type": "code",
   "execution_count": 5,
   "id": "a5f9e0b8-a586-4aad-b85b-fef01b55f30c",
   "metadata": {},
   "outputs": [
    {
     "data": {
      "text/plain": [
       "array([0.25161076, 0.00963595, 0.05311516, ..., 0.00810808, 0.01414352,\n",
       "       0.44724873])"
      ]
     },
     "execution_count": 5,
     "metadata": {},
     "output_type": "execute_result"
    }
   ],
   "source": [
    "scaled_y = sy.fit_transform(df['charges'].values.reshape(df.shape[0],1))\n",
    "scaled_y\n",
    "scaled_y.reshape(scaled_X.shape[0],)"
   ]
  },
  {
   "cell_type": "code",
   "execution_count": 6,
   "id": "fe53cdc8-0cc2-494a-828c-7625000e525a",
   "metadata": {},
   "outputs": [],
   "source": [
    "def predict(age, sex, bmi, children, smoker, region, w, b):\n",
    "    scaled_X = sx.transform([[age, sex, bmi, children, smoker, region]])[0]\n",
    "    scaled_charge = w[0] * scaled_X[0] + w[1] * scaled_X[1] + w[2] * scaled_X[2] + w[3] * scaled_X[3] + w[4] * scaled_X[4] + w[5] * scaled_X[5] + b\n",
    "    \n",
    "    return sy.inverse_transform([[scaled_charge]])[0][0]\n",
    "\n"
   ]
  },
  {
   "cell_type": "code",
   "execution_count": 7,
   "id": "ce6e55de-55c2-4c11-b04f-9c7a70f71042",
   "metadata": {},
   "outputs": [],
   "source": [
    "#Sochastic"
   ]
  },
  {
   "cell_type": "code",
   "execution_count": 8,
   "id": "740f32c7-6d23-4d80-9f5d-602513b8fe7b",
   "metadata": {},
   "outputs": [],
   "source": [
    "import random\n",
    "def stochastic_gradient_descent(X, y_true, epochs, learning_rate = 0.01):\n",
    "    number_of_features = X.shape[1]\n",
    "    w = np.ones(shape=(number_of_features))\n",
    "    b = 0\n",
    "    total_samples = X.shape[0]\n",
    "    \n",
    "    cost_list = []\n",
    "    epoch_list = []\n",
    "    \n",
    "    for i in range(epochs):\n",
    "        random_index = random.randint(0,total_samples-1)\n",
    "        sample_x = X[random_index]\n",
    "        sample_y = y_true[random_index]\n",
    "        y_predicted = np.dot(w, sample_x.T) + b\n",
    "        \n",
    "        w_grad = -(2/total_samples)*(sample_x.T.dot(sample_y-y_predicted))\n",
    "        b_grad = -(2/total_samples)*(sample_y-y_predicted)\n",
    "        \n",
    "        w = w - learning_rate * w_grad\n",
    "        b = b - learning_rate * b_grad\n",
    "        \n",
    "        cost = np.square(sample_y-y_predicted)\n",
    "        \n",
    "        if i % 100 == 0:\n",
    "            cost_list.append(cost)\n",
    "            epoch_list.append(i)\n",
    "        \n",
    "    return w, b, cost, cost_list, epoch_list"
   ]
  },
  {
   "cell_type": "code",
   "execution_count": 9,
   "id": "a3cf9c83-48d6-4e85-9564-e73249f4be47",
   "metadata": {},
   "outputs": [
    {
     "data": {
      "text/plain": [
       "(array([0.90549938, 0.87771752, 0.92151915, 0.95469519, 0.95217448,\n",
       "        0.89185196]),\n",
       " -0.18894843168346867,\n",
       " 1.1687755243203661)"
      ]
     },
     "execution_count": 9,
     "metadata": {},
     "output_type": "execute_result"
    }
   ],
   "source": [
    "wSGD, bSGD, costSGD, cost_listSGD, epoch_listSGD = stochastic_gradient_descent(scaled_X,scaled_y.reshape(scaled_y.shape[0],),scaled_X.shape[0], .05)\n",
    "wSGD, bSGD, costSGD"
   ]
  },
  {
   "cell_type": "code",
   "execution_count": 10,
   "id": "f69644d2-65cc-42c9-95ed-c3a82a5ea1b8",
   "metadata": {},
   "outputs": [
    {
     "data": {
      "image/png": "[encoded data removed]",
      "text/plain": [
       "<Figure size 432x288 with 1 Axes>"
      ]
     },
     "metadata": {
      "needs_background": "light"
     },
     "output_type": "display_data"
    }
   ],
   "source": [
    "plt.xlabel(\"epoch\")\n",
    "plt.ylabel(\"cost\")\n",
    "plt.plot(epoch_listSGD,cost_listSGD)\n",
    "plt.show()"
   ]
  },
  {
   "cell_type": "code",
   "execution_count": 11,
   "id": "4231cd7c-fc8f-4fad-a162-4f9e183474f7",
   "metadata": {},
   "outputs": [
    {
     "name": "stdout",
     "output_type": "stream",
     "text": [
      "179576.0881510797\n",
      "136176.05201609666\n",
      "91871.2327041604\n"
     ]
    }
   ],
   "source": [
    "print(predict(19, 1, 27.9, 0, 1, 3, wSGD, bSGD))\n",
    "print(predict(30, 1, 50.2, 2, 0, 0, wSGD, bSGD))\n",
    "print(predict(33, 1, 22.705, 0, 0, 1, wSGD, bSGD))"
   ]
  }
 ],
 "metadata": {
  "kernelspec": {
   "display_name": "Python 3 (ipykernel)",
   "language": "python",
   "name": "python3"
  },
  "language_info": {
   "codemirror_mode": {
    "name": "ipython",
    "version": 3
   },
   "file_extension": ".py",
   "mimetype": "text/x-python",
   "name": "python",
   "nbconvert_exporter": "python",
   "pygments_lexer": "ipython3",
   "version": "3.9.10"
  }
 },
 "nbformat": 4,
 "nbformat_minor": 5
}
