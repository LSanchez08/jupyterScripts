{
 "cells": [
  {
   "cell_type": "code",
   "execution_count": 1,
   "id": "48bf40ac-9257-4b5d-af46-d9d1b847fa0e",
   "metadata": {},
   "outputs": [],
   "source": [
    "import pandas as pd\n",
    "import numpy as np\n",
    "import matplotlib.pyplot as plt\n",
    "import seaborn as sns"
   ]
  },
  {
   "cell_type": "code",
   "execution_count": 2,
   "id": "8ce8df1e-62f4-447a-9952-92dd5dcf34bb",
   "metadata": {},
   "outputs": [],
   "source": [
    "df = pd.read_csv('insurance.csv')\n",
    "#smoker\n",
    "df.replace(to_replace = 'male',\n",
    "          value = 1,\n",
    "          inplace = True)\n",
    "df.replace(to_replace = 'female',\n",
    "          value = 0,\n",
    "          inplace = True)\n",
    "#smoker\n",
    "df.replace(to_replace = 'yes',\n",
    "          value = 1,\n",
    "          inplace = True)\n",
    "df.replace(to_replace = 'no',\n",
    "          value = 0,\n",
    "          inplace = True)\n",
    "# region\n",
    "df.replace(to_replace = 'northeast',\n",
    "          value = 0,\n",
    "          inplace = True)\n",
    "df.replace(to_replace = 'northwest',\n",
    "          value = 1,\n",
    "          inplace = True)\n",
    "df.replace(to_replace = 'southeast',\n",
    "          value = 2,\n",
    "          inplace = True)\n",
    "df.replace(to_replace = 'southwest',\n",
    "          value = 3,\n",
    "          inplace = True)"
   ]
  },
  {
   "cell_type": "code",
   "execution_count": 3,
   "id": "df7c694b-4d2f-4a0b-bc59-27a3630ed5b0",
   "metadata": {},
   "outputs": [
    {
     "data": {
      "text/plain": [
       "Index(['age', 'sex', 'bmi', 'children', 'smoker', 'region', 'charges'], dtype='object')"
      ]
     },
     "execution_count": 3,
     "metadata": {},
     "output_type": "execute_result"
    }
   ],
   "source": [
    "df.head()\n",
    "df.columns"
   ]
  },
  {
   "cell_type": "code",
   "execution_count": 4,
   "id": "7f43261d-862b-40fb-b866-59a389978f53",
   "metadata": {},
   "outputs": [],
   "source": [
    "from sklearn import preprocessing\n",
    "sx = preprocessing.MinMaxScaler()\n",
    "sy = preprocessing.MinMaxScaler()\n",
    "\n",
    "scaled_X = sx.fit_transform(df.drop('charges',axis='columns').values)"
   ]
  },
  {
   "cell_type": "code",
   "execution_count": 5,
   "id": "a5f9e0b8-a586-4aad-b85b-fef01b55f30c",
   "metadata": {},
   "outputs": [
    {
     "data": {
      "text/plain": [
       "array([0.25161076, 0.00963595, 0.05311516, ..., 0.00810808, 0.01414352,\n",
       "       0.44724873])"
      ]
     },
     "execution_count": 5,
     "metadata": {},
     "output_type": "execute_result"
    }
   ],
   "source": [
    "scaled_y = sy.fit_transform(df['charges'].values.reshape(df.shape[0],1))\n",
    "scaled_y\n",
    "scaled_y.reshape(scaled_X.shape[0],)"
   ]
  },
  {
   "cell_type": "code",
   "execution_count": 6,
   "id": "a47c823e-7358-4afc-ba83-ddab2c93dc1c",
   "metadata": {},
   "outputs": [
    {
     "data": {
      "text/plain": [
       "(array([ 0.18838286, -0.00201388,  0.22835008,  0.04021881,  0.38055841,\n",
       "        -0.01826994]),\n",
       " -0.06003923944312157,\n",
       " 0.009332505577730146)"
      ]
     },
     "execution_count": 6,
     "metadata": {},
     "output_type": "execute_result"
    }
   ],
   "source": [
    "def batch_gradient_descent(X, y_true, epochs, learning_rate = 0.01):\n",
    "    number_of_features = X.shape[1]\n",
    "    w = np.ones(shape=(number_of_features))\n",
    "    b = 0\n",
    "    total_samples = X.shape[0]\n",
    "    \n",
    "    cost_list = []\n",
    "    epoch_list = []\n",
    "    \n",
    "    for i in range(epochs):\n",
    "        y_predicted = np.dot(w, scaled_X.T) + b\n",
    "        \n",
    "        w_grad = -(2/total_samples)*(X.T.dot(y_true-y_predicted))\n",
    "        b_grad = -(2/total_samples)*np.sum(y_true-y_predicted)\n",
    "        \n",
    "        w = w - learning_rate * w_grad\n",
    "        b = b - learning_rate * b_grad\n",
    "        \n",
    "        cost = np.mean(np.square(y_true - y_predicted))\n",
    "        \n",
    "        if i % 10 == 0:\n",
    "            cost_list.append(cost)\n",
    "            epoch_list.append(i)\n",
    "        \n",
    "    return w, b, cost, cost_list, epoch_list\n",
    "\n",
    "w, b, cost, cost_list, epoch_list = batch_gradient_descent(scaled_X,scaled_y.reshape(scaled_y.shape[0],),scaled_X.shape[0], .05)\n",
    "w, b, cost\n",
    "        "
   ]
  },
  {
   "cell_type": "code",
   "execution_count": 7,
   "id": "3b4b8e50-f7aa-4440-9f0b-4c039db054d1",
   "metadata": {},
   "outputs": [
    {
     "data": {
      "image/png": "[encoded data removed]",
      "text/plain": [
       "<Figure size 432x288 with 1 Axes>"
      ]
     },
     "metadata": {
      "needs_background": "light"
     },
     "output_type": "display_data"
    }
   ],
   "source": [
    "plt.xlabel(\"epoch\")\n",
    "plt.ylabel(\"cost\")\n",
    "plt.plot(epoch_list,cost_list)\n",
    "plt.show()"
   ]
  },
  {
   "cell_type": "code",
   "execution_count": 8,
   "id": "fe53cdc8-0cc2-494a-828c-7625000e525a",
   "metadata": {},
   "outputs": [],
   "source": [
    "def predict(age, sex, bmi, children, smoker, region, w, b):\n",
    "    scaled_X = sx.transform([[age, sex, bmi, children, smoker, region]])[0]\n",
    "    scaled_charge = w[0] * scaled_X[0] + w[1] * scaled_X[1] + w[2] * scaled_X[2] + w[3] * scaled_X[3] + w[4] * scaled_X[4] + w[5] * scaled_X[5] + b\n",
    "    \n",
    "    return sy.inverse_transform([[scaled_charge]])[0][0]\n",
    "\n"
   ]
  },
  {
   "cell_type": "code",
   "execution_count": 9,
   "id": "fffa2913-e985-4dc5-8ff9-87f033e5b415",
   "metadata": {},
   "outputs": [
    {
     "name": "stdout",
     "output_type": "stream",
     "text": [
      "24783.154558967482\n",
      "14499.074355844337\n",
      "3297.2388696208377\n",
      "35703.42485474498\n"
     ]
    }
   ],
   "source": [
    "print(predict(19, 1, 27.9, 0, 1, 3, w, b))\n",
    "print(predict(30, 1, 50.2, 2, 0, 0, w, b))\n",
    "print(predict(33, 1, 22.705, 0, 0, 1, w, b))\n",
    "print(predict(62, 0, 26.29, 0, 1, 2, w, b))"
   ]
  }
 ],
 "metadata": {
  "kernelspec": {
   "display_name": "Python 3 (ipykernel)",
   "language": "python",
   "name": "python3"
  },
  "language_info": {
   "codemirror_mode": {
    "name": "ipython",
    "version": 3
   },
   "file_extension": ".py",
   "mimetype": "text/x-python",
   "name": "python",
   "nbconvert_exporter": "python",
   "pygments_lexer": "ipython3",
   "version": "3.9.10"
  }
 },
 "nbformat": 4,
 "nbformat_minor": 5
}
