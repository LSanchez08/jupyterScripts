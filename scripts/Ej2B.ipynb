{
 "cells": [
  {
   "cell_type": "code",
   "execution_count": 1,
   "id": "48bf40ac-9257-4b5d-af46-d9d1b847fa0e",
   "metadata": {},
   "outputs": [],
   "source": [
    "import pandas as pd\n",
    "import numpy as np\n",
    "import matplotlib.pyplot as plt\n",
    "import seaborn as sns"
   ]
  },
  {
   "cell_type": "code",
   "execution_count": 2,
   "id": "8ce8df1e-62f4-447a-9952-92dd5dcf34bb",
   "metadata": {},
   "outputs": [],
   "source": [
    "df = pd.read_csv('insurance.csv')\n",
    "#smoker\n",
    "df.replace(to_replace = 'male',\n",
    "          value = 1,\n",
    "          inplace = True)\n",
    "df.replace(to_replace = 'female',\n",
    "          value = 0,\n",
    "          inplace = True)\n",
    "#smoker\n",
    "df.replace(to_replace = 'yes',\n",
    "          value = 1,\n",
    "          inplace = True)\n",
    "df.replace(to_replace = 'no',\n",
    "          value = 0,\n",
    "          inplace = True)\n",
    "# region\n",
    "df.replace(to_replace = 'northeast',\n",
    "          value = 0,\n",
    "          inplace = True)\n",
    "df.replace(to_replace = 'northwest',\n",
    "          value = 1,\n",
    "          inplace = True)\n",
    "df.replace(to_replace = 'southeast',\n",
    "          value = 2,\n",
    "          inplace = True)\n",
    "df.replace(to_replace = 'southwest',\n",
    "          value = 3,\n",
    "          inplace = True)"
   ]
  },
  {
   "cell_type": "code",
   "execution_count": 3,
   "id": "df7c694b-4d2f-4a0b-bc59-27a3630ed5b0",
   "metadata": {},
   "outputs": [
    {
     "data": {
      "text/html": [
       "<div>\n",
       "<style scoped>\n",
       "    .dataframe tbody tr th:only-of-type {\n",
       "        vertical-align: middle;\n",
       "    }\n",
       "\n",
       "    .dataframe tbody tr th {\n",
       "        vertical-align: top;\n",
       "    }\n",
       "\n",
       "    .dataframe thead th {\n",
       "        text-align: right;\n",
       "    }\n",
       "</style>\n",
       "<table border=\"1\" class=\"dataframe\">\n",
       "  <thead>\n",
       "    <tr style=\"text-align: right;\">\n",
       "      <th></th>\n",
       "      <th>age</th>\n",
       "      <th>sex</th>\n",
       "      <th>bmi</th>\n",
       "      <th>children</th>\n",
       "      <th>smoker</th>\n",
       "      <th>region</th>\n",
       "      <th>charges</th>\n",
       "    </tr>\n",
       "  </thead>\n",
       "  <tbody>\n",
       "    <tr>\n",
       "      <th>0</th>\n",
       "      <td>19</td>\n",
       "      <td>0</td>\n",
       "      <td>27.900</td>\n",
       "      <td>0</td>\n",
       "      <td>1</td>\n",
       "      <td>3</td>\n",
       "      <td>16884.92400</td>\n",
       "    </tr>\n",
       "    <tr>\n",
       "      <th>1</th>\n",
       "      <td>18</td>\n",
       "      <td>1</td>\n",
       "      <td>33.770</td>\n",
       "      <td>1</td>\n",
       "      <td>0</td>\n",
       "      <td>2</td>\n",
       "      <td>1725.55230</td>\n",
       "    </tr>\n",
       "    <tr>\n",
       "      <th>2</th>\n",
       "      <td>28</td>\n",
       "      <td>1</td>\n",
       "      <td>33.000</td>\n",
       "      <td>3</td>\n",
       "      <td>0</td>\n",
       "      <td>2</td>\n",
       "      <td>4449.46200</td>\n",
       "    </tr>\n",
       "    <tr>\n",
       "      <th>3</th>\n",
       "      <td>33</td>\n",
       "      <td>1</td>\n",
       "      <td>22.705</td>\n",
       "      <td>0</td>\n",
       "      <td>0</td>\n",
       "      <td>1</td>\n",
       "      <td>21984.47061</td>\n",
       "    </tr>\n",
       "    <tr>\n",
       "      <th>4</th>\n",
       "      <td>32</td>\n",
       "      <td>1</td>\n",
       "      <td>28.880</td>\n",
       "      <td>0</td>\n",
       "      <td>0</td>\n",
       "      <td>1</td>\n",
       "      <td>3866.85520</td>\n",
       "    </tr>\n",
       "  </tbody>\n",
       "</table>\n",
       "</div>"
      ],
      "text/plain": [
       "   age  sex     bmi  children  smoker  region      charges\n",
       "0   19    0  27.900         0       1       3  16884.92400\n",
       "1   18    1  33.770         1       0       2   1725.55230\n",
       "2   28    1  33.000         3       0       2   4449.46200\n",
       "3   33    1  22.705         0       0       1  21984.47061\n",
       "4   32    1  28.880         0       0       1   3866.85520"
      ]
     },
     "execution_count": 3,
     "metadata": {},
     "output_type": "execute_result"
    }
   ],
   "source": [
    "df.head()"
   ]
  },
  {
   "cell_type": "code",
   "execution_count": 4,
   "id": "4dde40ac-7cb0-4f4f-ac67-60dfaae77e9b",
   "metadata": {},
   "outputs": [
    {
     "data": {
      "image/png": "[encoded data removed]",
      "text/plain": [
       "<Figure size 432x288 with 2 Axes>"
      ]
     },
     "metadata": {
      "needs_background": "light"
     },
     "output_type": "display_data"
    }
   ],
   "source": [
    "sns.heatmap(df.corr(), annot=True)\n",
    "\n",
    "plt.show()"
   ]
  },
  {
   "cell_type": "code",
   "execution_count": 5,
   "id": "3c0f807f-fc1b-469a-91f2-f3e92d6a8c39",
   "metadata": {},
   "outputs": [
    {
     "data": {
      "text/plain": [
       "Index(['age', 'sex', 'bmi', 'children', 'smoker', 'region', 'charges'], dtype='object')"
      ]
     },
     "execution_count": 5,
     "metadata": {},
     "output_type": "execute_result"
    }
   ],
   "source": [
    "df.columns"
   ]
  },
  {
   "cell_type": "code",
   "execution_count": 6,
   "id": "78d4dd99-4cd2-4ea0-a0f8-4028ce620303",
   "metadata": {},
   "outputs": [],
   "source": [
    "X = df[['age', 'sex', 'bmi', 'children', 'smoker', 'region']].to_numpy()\n",
    "y = df['charges'].to_numpy()"
   ]
  },
  {
   "cell_type": "code",
   "execution_count": 7,
   "id": "43edbbd3-e2ed-47f8-9123-ff7a32ff19c4",
   "metadata": {},
   "outputs": [
    {
     "data": {
      "image/png": "[encoded data removed]",
      "text/plain": [
       "<Figure size 432x288 with 1 Axes>"
      ]
     },
     "metadata": {
      "needs_background": "light"
     },
     "output_type": "display_data"
    }
   ],
   "source": [
    "plt.plot(X, y, 'b.')\n",
    "plt.xlabel('$x_1$', fontsize=18)\n",
    "plt.ylabel('$y$', rotation=0, fontsize=18)\n",
    "plt.show()"
   ]
  },
  {
   "cell_type": "code",
   "execution_count": 8,
   "id": "c485d7d8-d9df-4e76-8b43-3bec1ec607b3",
   "metadata": {},
   "outputs": [
    {
     "data": {
      "text/plain": [
       "array([[ 1., 19.,  0., ...,  0.,  1.,  3.],\n",
       "       [ 1., 18.,  1., ...,  1.,  0.,  2.],\n",
       "       [ 1., 28.,  1., ...,  3.,  0.,  2.],\n",
       "       ...,\n",
       "       [ 1., 18.,  0., ...,  0.,  0.,  2.],\n",
       "       [ 1., 21.,  0., ...,  0.,  0.,  3.],\n",
       "       [ 1., 61.,  0., ...,  0.,  1.,  1.]])"
      ]
     },
     "execution_count": 8,
     "metadata": {},
     "output_type": "execute_result"
    }
   ],
   "source": [
    "X_b = np.c_[np.ones((y.size,1)), X]\n",
    "X_b"
   ]
  },
  {
   "cell_type": "code",
   "execution_count": 9,
   "id": "d57812a8-805c-4b23-b1e3-6c8d4ab57e93",
   "metadata": {},
   "outputs": [],
   "source": [
    "eta = 0.15\n",
    "n_iterations = 10\n",
    "J_log = np.zeros(n_iterations)"
   ]
  },
  {
   "cell_type": "code",
   "execution_count": 10,
   "id": "7afde535-80f9-4ad1-ac44-c32ccbfecf7b",
   "metadata": {
    "tags": []
   },
   "outputs": [
    {
     "name": "stdout",
     "output_type": "stream",
     "text": [
      "7\n"
     ]
    }
   ],
   "source": [
    "theta = np.random.randn(7,1)\n",
    "theta\n",
    "print(theta.size)"
   ]
  },
  {
   "cell_type": "code",
   "execution_count": 11,
   "id": "6dd7327c-cece-4f0d-b554-6e53d39f83f8",
   "metadata": {},
   "outputs": [],
   "source": [
    "mean = np.ones(X.shape[1])\n",
    "std = np.ones(X.shape[1])"
   ]
  },
  {
   "cell_type": "code",
   "execution_count": 12,
   "id": "03fc2c83-a0ba-4226-b4c4-92e5347200e7",
   "metadata": {
    "tags": []
   },
   "outputs": [],
   "source": [
    "for i in range(0, X.shape[1]):\n",
    "    mean[i] = np.mean(X.transpose()[i])\n",
    "    std[i] = np.std(X.transpose()[i])\n",
    "    for j in range(0, X.shape[0]):\n",
    "        X[j][i] = (X[j][i] - mean[i])/std[i]"
   ]
  },
  {
   "cell_type": "code",
   "execution_count": 13,
   "id": "93f080b5-3106-4961-a773-14dc0e74b03f",
   "metadata": {},
   "outputs": [],
   "source": [
    "def hypothesis(theta, X, n):\n",
    "    h = np.ones((X.shape[0],1))\n",
    "    theta = theta.reshape(1,n+1)\n",
    "    for i in range(0,X.shape[0]):\n",
    "        h[i] = float(np.matmul(theta, X[i]))\n",
    "    h = h.reshape(X.shape[0])\n",
    "    return h"
   ]
  },
  {
   "cell_type": "code",
   "execution_count": 14,
   "id": "a8680268-cf12-4b8d-947e-a24e22753022",
   "metadata": {},
   "outputs": [],
   "source": [
    "def BGD(theta, alpha, num_iters, h, X, y, n):\n",
    "    cost = np.ones(num_iters)\n",
    "    for i in range(0,num_iters):\n",
    "        theta[0] = theta[0] - ((alpha/X.shape[0]) * sum(h - y))\n",
    "        for j in range(1,n+1):\n",
    "            theta[j] = theta[j] - (alpha/X.shape[0]) * sum((h-y) * X.transpose()[j])\n",
    "        h = hypothesis(theta, X, n)\n",
    "        cost[i] = (1/X.shape[0]) * 0.5 * sum(np.square(h - y))\n",
    "    theta = theta.reshape(1,n+1)\n",
    "    return theta, cost"
   ]
  },
  {
   "cell_type": "code",
   "execution_count": 15,
   "id": "0973fa55-a880-438a-8597-40e71af75308",
   "metadata": {},
   "outputs": [],
   "source": [
    "def linear_regression(X, y, alpha, num_iters):\n",
    "    n = X.shape[1]\n",
    "    one_column = np.ones((X.shape[0],1))\n",
    "    X = np.concatenate((one_column, X), axis = 1)\n",
    "    theta = np.zeros(n+1)\n",
    "    h = hypothesis(theta, X, n)\n",
    "    theta, cost = BGD(theta,alpha,num_iters,h,X,y,n)\n",
    "    return theta, cost"
   ]
  },
  {
   "cell_type": "code",
   "execution_count": 16,
   "id": "8597331e-08fb-404c-be23-f9ee35dbdc9d",
   "metadata": {},
   "outputs": [],
   "source": [
    "theta, cost = linear_regression(X, y,0.05, 1000)"
   ]
  },
  {
   "cell_type": "code",
   "execution_count": 17,
   "id": "e8f21141-1f4d-43b2-bf4b-4296ddc3de20",
   "metadata": {},
   "outputs": [
    {
     "data": {
      "text/plain": [
       "array([[13270.42226514,  3613.53615057,   -65.55170114,  2027.3168105 ,\n",
       "          577.66033542,  9612.57306988,  -390.58548034]])"
      ]
     },
     "execution_count": 17,
     "metadata": {},
     "output_type": "execute_result"
    },
    {
     "data": {
      "image/png": "[encoded data removed]",
      "text/plain": [
       "<Figure size 432x288 with 1 Axes>"
      ]
     },
     "metadata": {
      "needs_background": "light"
     },
     "output_type": "display_data"
    }
   ],
   "source": [
    "cost = list(cost)\n",
    "n_iterations = [x for x in range(1,1001)]\n",
    "plt.plot(n_iterations, cost)\n",
    "plt.xlabel('No. of iterations')\n",
    "plt.ylabel('Cost')\n",
    "theta"
   ]
  },
  {
   "cell_type": "code",
   "execution_count": 18,
   "id": "1c91e47c-c04a-46e7-a9d9-bac61d0fd74f",
   "metadata": {},
   "outputs": [],
   "source": [
    "def predict_values(thetas, X_train):\n",
    "    prediction = 0\n",
    "    X_train = [1] + X_train\n",
    "    for i in range(thetas.size):\n",
    "        prediction += thetas[i] * X_train[i]\n",
    "        \n",
    "    return prediction"
   ]
  },
  {
   "cell_type": "code",
   "execution_count": 20,
   "id": "52f8f0f2-bcae-422a-828d-674e8e42d64b",
   "metadata": {},
   "outputs": [
    {
     "name": "stdout",
     "output_type": "stream",
     "text": [
      "152457.3160756067\n",
      "224537.5796391863\n",
      "146930.56476787725\n"
     ]
    }
   ],
   "source": [
    "print(predict_values(theta[0], [19, 1, 35.4, 0, 0, 3]))\n",
    "print(predict_values(theta[0], [30, 1, 50.2, 2, 0, 0]))\n",
    "print(predict_values(theta[0], [19, 0, 27.9, 0, 1, 3]))"
   ]
  },
  {
   "cell_type": "code",
   "execution_count": null,
   "id": "c88d15dd-ed4a-4f34-8466-72b86133d071",
   "metadata": {},
   "outputs": [],
   "source": []
  }
 ],
 "metadata": {
  "kernelspec": {
   "display_name": "Python 3 (ipykernel)",
   "language": "python",
   "name": "python3"
  },
  "language_info": {
   "codemirror_mode": {
    "name": "ipython",
    "version": 3
   },
   "file_extension": ".py",
   "mimetype": "text/x-python",
   "name": "python",
   "nbconvert_exporter": "python",
   "pygments_lexer": "ipython3",
   "version": "3.9.10"
  }
 },
 "nbformat": 4,
 "nbformat_minor": 5
}
