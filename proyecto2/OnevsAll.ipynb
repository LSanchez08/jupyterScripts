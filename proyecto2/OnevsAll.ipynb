{
 "cells": [
  {
   "cell_type": "code",
   "execution_count": 1,
   "id": "d55a40ea-b19a-475a-9639-e735f5d5f2e1",
   "metadata": {},
   "outputs": [],
   "source": [
    "import numpy as np\n",
    "from sklearn import datasets\n",
    "iris = datasets.load_iris()"
   ]
  },
  {
   "cell_type": "code",
   "execution_count": 2,
   "id": "12a41dc1-7bd9-4822-aeae-8feb5005e732",
   "metadata": {},
   "outputs": [],
   "source": [
    "def getVariants(y):\n",
    "    variants = []\n",
    "    for i in range(0, np.amax(y) + 1):\n",
    "        variants.append([])\n",
    "\n",
    "    for i in range(0, y.shape[0]):\n",
    "        variants[y[i]].append(i)\n",
    "\n",
    "    return variants"
   ]
  },
  {
   "cell_type": "code",
   "execution_count": 3,
   "id": "db8ee8bb-4a67-4964-814f-bff7650ce979",
   "metadata": {},
   "outputs": [],
   "source": [
    "from sklearn.linear_model import LogisticRegression\n",
    "class OneVsOne(object):\n",
    "    def __init__(self):\n",
    "        self.models = []\n",
    "        \n",
    "    def fit(self, dataSet, y):\n",
    "        X = dataSet['data']\n",
    "        setosa_y = (dataSet['target']==0).astype(int).reshape(150,1)\n",
    "        versicolor_y = (dataSet['target']==1).astype(int).reshape(150,1)\n",
    "        virginica_y = (dataSet['target']==2).astype(int).reshape(150,1)\n",
    "        \n",
    "        modelAvBC = LogisticRegression(C=10**10)\n",
    "        modelBvAC = LogisticRegression(C=10**10)\n",
    "        modelCvAB = LogisticRegression(C=10**10)\n",
    "\n",
    "        modelAvBC.fit(X, setosa_y.ravel())\n",
    "        modelBvAC.fit(X, versicolor_y.ravel())\n",
    "        modelCvAB.fit(X, virginica_y.ravel())\n",
    "        \n",
    "        self.models = np.array([modelAvBC, modelBvAC, modelCvAB])\n",
    "                \n",
    "    def predict(self,  test_datas):\n",
    "        def _predict(models, test_data):\n",
    "            test_data = np.reshape(test_data, (1, -1))\n",
    "            vote = 0\n",
    "            debug = []\n",
    "            for model in models:\n",
    "                pred = model.predict(test_data)[0]\n",
    "                debug.append(pred)\n",
    "                if pred == 1:\n",
    "                    vote = np.array(np.where(models == model))[0][0]\n",
    "            print(debug)\n",
    "            return vote\n",
    "            \n",
    "        predict = []\n",
    "        for data in test_datas:\n",
    "            predict.append(_predict(self.models, data))\n",
    "        return np.array(predict)"
   ]
  },
  {
   "cell_type": "code",
   "execution_count": 4,
   "id": "22ea67af-a1c6-4009-9406-250b28e73644",
   "metadata": {},
   "outputs": [],
   "source": [
    "ovo = OneVsOne()"
   ]
  },
  {
   "cell_type": "code",
   "execution_count": 5,
   "id": "e790e017-a86a-4314-bc52-b7417f40d213",
   "metadata": {},
   "outputs": [],
   "source": [
    "X = iris['data']\n",
    "y = (iris['target']).astype(int).reshape(150,1)"
   ]
  },
  {
   "cell_type": "code",
   "execution_count": 6,
   "id": "6a249970-c5b3-4dba-84e6-0cb27fcbf14a",
   "metadata": {},
   "outputs": [],
   "source": [
    "ovo.fit(iris, y.ravel())"
   ]
  },
  {
   "cell_type": "code",
   "execution_count": 7,
   "id": "c03b1c79-8578-43c5-814d-6bec0f4bfd3d",
   "metadata": {},
   "outputs": [
    {
     "data": {
      "text/plain": [
       "array(['setosa', 'versicolor', 'virginica'], dtype='<U10')"
      ]
     },
     "execution_count": 7,
     "metadata": {},
     "output_type": "execute_result"
    }
   ],
   "source": [
    "iris['target_names']"
   ]
  },
  {
   "cell_type": "code",
   "execution_count": 8,
   "id": "4a2c2ed5-7b7b-4438-b013-73c6a780445e",
   "metadata": {},
   "outputs": [],
   "source": [
    "variants = getVariants(y.ravel())\n",
    "setosa_y = (iris['target'][variants[0]]).astype(int).reshape(50,1)\n",
    "versicolor_y = (iris['target'][variants[1]]).astype(int).reshape(50,1)\n",
    "virginica_y = (iris['target'][variants[2]]).astype(int).reshape(50,1)\n",
    "\n",
    "setosa_x = X[variants[0]]\n",
    "versicolor_x = X[variants[1]]\n",
    "virginica_x = X[variants[2]]"
   ]
  },
  {
   "cell_type": "code",
   "execution_count": 9,
   "id": "2af9aa90-0103-41c0-9f76-1e11041ff1dd",
   "metadata": {},
   "outputs": [
    {
     "name": "stdout",
     "output_type": "stream",
     "text": [
      "[1, 0, 0]\n",
      "[1, 1, 0]\n",
      "[1, 0, 0]\n",
      "[1, 0, 0]\n",
      "[1, 0, 0]\n",
      "[1, 0, 0]\n",
      "[1, 0, 0]\n",
      "[1, 0, 0]\n",
      "[1, 0, 0]\n",
      "[1, 0, 0]\n",
      "[0, 1, 0]\n",
      "[0, 0, 0]\n",
      "[0, 1, 0]\n",
      "[0, 1, 0]\n",
      "[0, 1, 0]\n",
      "[0, 0, 0]\n",
      "[0, 0, 0]\n",
      "[0, 0, 0]\n",
      "[0, 1, 0]\n",
      "[0, 0, 0]\n",
      "[0, 0, 1]\n",
      "[0, 0, 1]\n",
      "[0, 0, 1]\n",
      "[0, 0, 1]\n",
      "[0, 0, 1]\n",
      "[0, 0, 1]\n",
      "[0, 1, 1]\n",
      "[0, 0, 1]\n",
      "[0, 0, 1]\n",
      "[0, 0, 1]\n"
     ]
    },
    {
     "data": {
      "text/plain": [
       "array([0, 1, 0, 0, 0, 0, 0, 0, 0, 0, 1, 0, 1, 1, 1, 0, 0, 0, 1, 0, 2, 2,\n",
       "       2, 2, 2, 2, 2, 2, 2, 2])"
      ]
     },
     "execution_count": 9,
     "metadata": {},
     "output_type": "execute_result"
    }
   ],
   "source": [
    "testData = np.concatenate([setosa_x[40:], versicolor_x[40:], virginica_x[40:]])\n",
    "\n",
    "ovo.predict(testData)"
   ]
  },
  {
   "cell_type": "code",
   "execution_count": null,
   "id": "dc12e1fc-82ed-4c3c-9700-01ef23a9fa38",
   "metadata": {},
   "outputs": [],
   "source": []
  }
 ],
 "metadata": {
  "kernelspec": {
   "display_name": "Python 3 (ipykernel)",
   "language": "python",
   "name": "python3"
  },
  "language_info": {
   "codemirror_mode": {
    "name": "ipython",
    "version": 3
   },
   "file_extension": ".py",
   "mimetype": "text/x-python",
   "name": "python",
   "nbconvert_exporter": "python",
   "pygments_lexer": "ipython3",
   "version": "3.9.10"
  }
 },
 "nbformat": 4,
 "nbformat_minor": 5
}
